{
 "cells": [
  {
   "attachments": {},
   "cell_type": "markdown",
   "id": "4097f207",
   "metadata": {},
   "source": [
    "# STEP 1: Importing Depedencies\n",
    "This procedure shall make use of [Zarr](https://zarr.readthedocs.io/en/stable/tutorial.html) and [fsspec](https://filesystem-spec.readthedocs.io/en/latest/) dependencies. Ensure they are already installed in your system\n",
    "\n",
    "Dependencies are python files that consist of Python codes to be called upon (imported) into other Python files or in the command line and contains python classes, functions or variables to be referenced elsewhere.\n",
    "\n",
    "You can import the whole package, change its name using the [as](https://en.wikipedia.org/wiki/Infrastructure_as_code) code, or import only particular functions using [from](https://serverlessfirst.com/emails/infrastructure-from-code-vs-infrastructure-as-code/).\n",
    "\n",
    "It is common practice to import all dependencies at once at the beginning of a script.\n"
   ]
  },
  {
   "cell_type": "code",
   "execution_count": 1,
   "id": "86840dd8",
   "metadata": {
    "slideshow": {
     "slide_type": "notes"
    },
    "tags": []
   },
   "outputs": [],
   "source": [
    "import zarr\n",
    "# importing whole package"
   ]
  },
  {
   "cell_type": "code",
   "execution_count": null,
   "id": "d658781a",
   "metadata": {},
   "outputs": [
    {
     "ename": "",
     "evalue": "",
     "output_type": "error",
     "traceback": [
      "\u001b[1;31mRunning cells with 'base' requires ipykernel package.\n",
      "\u001b[1;31mRun the following command to install 'ipykernel' into the Python environment. \n",
      "\u001b[1;31mCommand: 'conda install -n base ipykernel --update-deps --force-reinstall'"
     ]
    }
   ],
   "source": [
    "import numpy as np\n",
    "# renaming using the as code"
   ]
  },
  {
   "cell_type": "code",
   "execution_count": 2,
   "id": "860ce3d5",
   "metadata": {},
   "outputs": [
    {
     "ename": "ModuleNotFoundError",
     "evalue": "No module named 'PIL'",
     "output_type": "error",
     "traceback": [
      "\u001b[0;31m---------------------------------------------------------------------------\u001b[0m",
      "\u001b[0;31mModuleNotFoundError\u001b[0m                       Traceback (most recent call last)",
      "Cell \u001b[0;32mIn[2], line 1\u001b[0m\n\u001b[0;32m----> 1\u001b[0m \u001b[39mimport\u001b[39;00m \u001b[39mmatplotlib\u001b[39;00m\u001b[39m.\u001b[39;00m\u001b[39mpyplot\u001b[39;00m \u001b[39mas\u001b[39;00m \u001b[39mplt\u001b[39;00m\n",
      "File \u001b[0;32m~/.local/lib/python3.10/site-packages/matplotlib/__init__.py:113\u001b[0m\n\u001b[1;32m    109\u001b[0m \u001b[39mfrom\u001b[39;00m \u001b[39mpackaging\u001b[39;00m\u001b[39m.\u001b[39;00m\u001b[39mversion\u001b[39;00m \u001b[39mimport\u001b[39;00m parse \u001b[39mas\u001b[39;00m parse_version\n\u001b[1;32m    111\u001b[0m \u001b[39m# cbook must import matplotlib only within function\u001b[39;00m\n\u001b[1;32m    112\u001b[0m \u001b[39m# definitions, so it is safe to import from it here.\u001b[39;00m\n\u001b[0;32m--> 113\u001b[0m \u001b[39mfrom\u001b[39;00m \u001b[39m.\u001b[39;00m \u001b[39mimport\u001b[39;00m _api, _version, cbook, _docstring, rcsetup\n\u001b[1;32m    114\u001b[0m \u001b[39mfrom\u001b[39;00m \u001b[39mmatplotlib\u001b[39;00m\u001b[39m.\u001b[39;00m\u001b[39mcbook\u001b[39;00m \u001b[39mimport\u001b[39;00m sanitize_sequence\n\u001b[1;32m    115\u001b[0m \u001b[39mfrom\u001b[39;00m \u001b[39mmatplotlib\u001b[39;00m\u001b[39m.\u001b[39;00m\u001b[39m_api\u001b[39;00m \u001b[39mimport\u001b[39;00m MatplotlibDeprecationWarning\n",
      "File \u001b[0;32m~/.local/lib/python3.10/site-packages/matplotlib/rcsetup.py:27\u001b[0m\n\u001b[1;32m     25\u001b[0m \u001b[39mfrom\u001b[39;00m \u001b[39mmatplotlib\u001b[39;00m \u001b[39mimport\u001b[39;00m _api, cbook\n\u001b[1;32m     26\u001b[0m \u001b[39mfrom\u001b[39;00m \u001b[39mmatplotlib\u001b[39;00m\u001b[39m.\u001b[39;00m\u001b[39mcbook\u001b[39;00m \u001b[39mimport\u001b[39;00m ls_mapper\n\u001b[0;32m---> 27\u001b[0m \u001b[39mfrom\u001b[39;00m \u001b[39mmatplotlib\u001b[39;00m\u001b[39m.\u001b[39;00m\u001b[39mcolors\u001b[39;00m \u001b[39mimport\u001b[39;00m Colormap, is_color_like\n\u001b[1;32m     28\u001b[0m \u001b[39mfrom\u001b[39;00m \u001b[39mmatplotlib\u001b[39;00m\u001b[39m.\u001b[39;00m\u001b[39m_fontconfig_pattern\u001b[39;00m \u001b[39mimport\u001b[39;00m parse_fontconfig_pattern\n\u001b[1;32m     29\u001b[0m \u001b[39mfrom\u001b[39;00m \u001b[39mmatplotlib\u001b[39;00m\u001b[39m.\u001b[39;00m\u001b[39m_enums\u001b[39;00m \u001b[39mimport\u001b[39;00m JoinStyle, CapStyle\n",
      "File \u001b[0;32m~/.local/lib/python3.10/site-packages/matplotlib/colors.py:51\u001b[0m\n\u001b[1;32m     49\u001b[0m \u001b[39mfrom\u001b[39;00m \u001b[39mnumbers\u001b[39;00m \u001b[39mimport\u001b[39;00m Number\n\u001b[1;32m     50\u001b[0m \u001b[39mimport\u001b[39;00m \u001b[39mre\u001b[39;00m\n\u001b[0;32m---> 51\u001b[0m \u001b[39mfrom\u001b[39;00m \u001b[39mPIL\u001b[39;00m \u001b[39mimport\u001b[39;00m Image\n\u001b[1;32m     52\u001b[0m \u001b[39mfrom\u001b[39;00m \u001b[39mPIL\u001b[39;00m\u001b[39m.\u001b[39;00m\u001b[39mPngImagePlugin\u001b[39;00m \u001b[39mimport\u001b[39;00m PngInfo\n\u001b[1;32m     54\u001b[0m \u001b[39mimport\u001b[39;00m \u001b[39mmatplotlib\u001b[39;00m \u001b[39mas\u001b[39;00m \u001b[39mmpl\u001b[39;00m\n",
      "\u001b[0;31mModuleNotFoundError\u001b[0m: No module named 'PIL'"
     ]
    }
   ],
   "source": [
    "import matplotlib.pyplot as plt\n",
    "# renaming using the as code"
   ]
  },
  {
   "cell_type": "code",
   "execution_count": 3,
   "id": "9c9dd3b4",
   "metadata": {},
   "outputs": [
    {
     "name": "stdout",
     "output_type": "stream",
     "text": [
      "(3, 320, 240, 1)\n"
     ]
    },
    {
     "ename": "NameError",
     "evalue": "name 'plt' is not defined",
     "output_type": "error",
     "traceback": [
      "\u001b[0;31m---------------------------------------------------------------------------\u001b[0m",
      "\u001b[0;31mNameError\u001b[0m                                 Traceback (most recent call last)",
      "Cell \u001b[0;32mIn[3], line 5\u001b[0m\n\u001b[1;32m      1\u001b[0m z \u001b[39m=\u001b[39m zarr\u001b[39m.\u001b[39mopen_array(\n\u001b[1;32m      2\u001b[0m     \u001b[39m\"\u001b[39m\u001b[39mhttps://data-humerus.webknossos.org/data/zarr/scalable_minds/skin/color/4-4-1\u001b[39m\u001b[39m\"\u001b[39m\n\u001b[1;32m      3\u001b[0m )\n\u001b[1;32m      4\u001b[0m \u001b[39mprint\u001b[39m(z\u001b[39m.\u001b[39mshape)\n\u001b[0;32m----> 5\u001b[0m plt\u001b[39m.\u001b[39mimshow(z[:, :, :, \u001b[39m0\u001b[39m]\u001b[39m.\u001b[39mT)\n",
      "\u001b[0;31mNameError\u001b[0m: name 'plt' is not defined"
     ]
    }
   ],
   "source": [
    "z = zarr.open_array(\n",
    "    \"https://data-humerus.webknossos.org/data/zarr/scalable_minds/skin/color/4-4-1\"\n",
    ")\n",
    "print(z.shape)\n",
    "plt.imshow(z[:, :, :, 0].T)"
   ]
  },
  {
   "cell_type": "code",
   "execution_count": null,
   "id": "8e9b93fa",
   "metadata": {},
   "outputs": [
    {
     "ename": "",
     "evalue": "",
     "output_type": "error",
     "traceback": [
      "\u001b[1;31mRunning cells with 'base' requires ipykernel package.\n",
      "\u001b[1;31mRun the following command to install 'ipykernel' into the Python environment. \n",
      "\u001b[1;31mCommand: 'conda install -n base ipykernel --update-deps --force-reinstall'"
     ]
    }
   ],
   "source": [
    "z = zarr.open_array(\"https://data-humerus.webknossos.org/data/zarr/scalable_minds/l4dense_motta_et_al_demo_v2/color/2-2-1\")\n",
    "print(z.shape)\n",
    "f, axarr = plt.subplots(1, 2)\n",
    "axarr[0].imshow(z[0, 1000:1800, 500:1500, 1500].T, cmap=\"gray\")\n",
    "z = zarr.open_array(\"https://data-humerus.webknossos.org/data/zarr/scalable_minds/l4dense_motta_et_al_demo_v2/segmentation/2-2-1\")\n",
    "axarr[1].imshow(z[0, 1000:1800, 500:1500, 1500].T, cmap=\"tab20\")"
   ]
  },
  {
   "cell_type": "code",
   "execution_count": null,
   "id": "0e79a5a6",
   "metadata": {},
   "outputs": [
    {
     "ename": "",
     "evalue": "",
     "output_type": "error",
     "traceback": [
      "\u001b[1;31mRunning cells with 'base' requires ipykernel package.\n",
      "\u001b[1;31mRun the following command to install 'ipykernel' into the Python environment. \n",
      "\u001b[1;31mCommand: 'conda install -n base ipykernel --update-deps --force-reinstall'"
     ]
    }
   ],
   "source": [
    "z = zarr.open_array(\n",
    "    \"https://uk1s3.embassy.ebi.ac.uk/idr/zarr/v0.1/6001240.zarr/1\"\n",
    ")\n",
    "print(z.shape)\n",
    "plt.imshow(z[0, 1, 100, :, :], cmap=\"Oranges\")"
   ]
  },
  {
   "cell_type": "code",
   "execution_count": null,
   "id": "df30c840",
   "metadata": {},
   "outputs": [
    {
     "ename": "",
     "evalue": "",
     "output_type": "error",
     "traceback": [
      "\u001b[1;31mRunning cells with 'base' requires ipykernel package.\n",
      "\u001b[1;31mRun the following command to install 'ipykernel' into the Python environment. \n",
      "\u001b[1;31mCommand: 'conda install -n base ipykernel --update-deps --force-reinstall'"
     ]
    }
   ],
   "source": [
    "g = zarr.open_group(\n",
    "    \"s3://power-analysis-ready-datastore/power_901_monthly_meteorology_utc.zarr\",\n",
    "    storage_options={\"anon\": True}\n",
    ")\n",
    "print(list(g.keys()))\n",
    "z = g[\"EVLAND\"]\n",
    "print(z.shape)\n",
    "plt.imshow(z[200], origin=\"lower\", cmap=\"hot\")"
   ]
  },
  {
   "cell_type": "code",
   "execution_count": null,
   "id": "54810fc4",
   "metadata": {},
   "outputs": [
    {
     "ename": "",
     "evalue": "",
     "output_type": "error",
     "traceback": [
      "\u001b[1;31mRunning cells with 'base' requires ipykernel package.\n",
      "\u001b[1;31mRun the following command to install 'ipykernel' into the Python environment. \n",
      "\u001b[1;31mCommand: 'conda install -n base ipykernel --update-deps --force-reinstall'"
     ]
    }
   ],
   "source": [
    "g = zarr.open_group(\n",
    "    \"s3://cmip6-pds/CMIP6/CMIP/AS-RCEC/TaiESM1/1pctCO2/r1i1p1f1/Amon/hfls/gn/v20200225/\",\n",
    "    storage_options={\"anon\": True}\n",
    ")\n",
    "print(list(g.keys()))\n",
    "z = g[\"hfls\"]\n",
    "print(z.shape)\n",
    "plt.imshow(z[900], origin=\"lower\")"
   ]
  },
  {
   "cell_type": "code",
   "execution_count": null,
   "id": "05f70f6a",
   "metadata": {},
   "outputs": [
    {
     "ename": "",
     "evalue": "",
     "output_type": "error",
     "traceback": [
      "\u001b[1;31mRunning cells with 'base' requires ipykernel package.\n",
      "\u001b[1;31mRun the following command to install 'ipykernel' into the Python environment. \n",
      "\u001b[1;31mCommand: 'conda install -n base ipykernel --update-deps --force-reinstall'"
     ]
    }
   ],
   "source": [
    "from datetime import datetime\n",
    "# Import usng the from code.\n",
    "\n",
    "date = datetime.today().strftime('%Y%m%d')\n",
    "print(\"date\", date)\n",
    "\n",
    "z = zarr.open_array(\n",
    "    f\"s3://fmi-opendata-silam-surface-zarr/global/{date}/silam_glob_v5_7_1_{date}_SO2_d0.zarr/SO2/\",\n",
    "    storage_options={\"anon\": True}\n",
    ")\n",
    "print(z.shape)\n",
    "plt.imshow(np.log(z[20]), origin=\"lower\", cmap=\"Spectral\")"
   ]
  },
  {
   "cell_type": "code",
   "execution_count": null,
   "id": "07cf1a39",
   "metadata": {},
   "outputs": [
    {
     "ename": "",
     "evalue": "",
     "output_type": "error",
     "traceback": [
      "\u001b[1;31mRunning cells with 'base' requires ipykernel package.\n",
      "\u001b[1;31mRun the following command to install 'ipykernel' into the Python environment. \n",
      "\u001b[1;31mCommand: 'conda install -n base ipykernel --update-deps --force-reinstall'"
     ]
    }
   ],
   "source": [
    "z = zarr.open_array(\n",
    "    \"https://storage.googleapis.com/pangeo-data/ECCO_basins.zarr/basin_mask\"\n",
    "  )\n",
    "print(z.shape)\n",
    "plt.imshow(z[10])"
   ]
  },
  {
   "cell_type": "code",
   "execution_count": null,
   "id": "edd0f716",
   "metadata": {},
   "outputs": [
    {
     "ename": "",
     "evalue": "",
     "output_type": "error",
     "traceback": [
      "\u001b[1;31mRunning cells with 'base' requires ipykernel package.\n",
      "\u001b[1;31mRun the following command to install 'ipykernel' into the Python environment. \n",
      "\u001b[1;31mCommand: 'conda install -n base ipykernel --update-deps --force-reinstall'"
     ]
    }
   ],
   "source": []
  }
 ],
 "metadata": {
  "kernelspec": {
   "display_name": "base",
   "language": "python",
   "name": "python3"
  },
  "language_info": {
   "codemirror_mode": {
    "name": "ipython",
    "version": 3
   },
   "file_extension": ".py",
   "mimetype": "text/x-python",
   "name": "python",
   "nbconvert_exporter": "python",
   "pygments_lexer": "ipython3",
   "version": "3.10.8"
  },
  "vscode": {
   "interpreter": {
    "hash": "5ac17281832d6aaf758b17e2c873fc0300e197a0302f1b9a6d9927b1dc0379d4"
   }
  }
 },
 "nbformat": 4,
 "nbformat_minor": 5
}
