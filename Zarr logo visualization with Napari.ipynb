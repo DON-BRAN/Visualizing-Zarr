{
 "cells": [
  {
   "cell_type": "code",
   "execution_count": 1,
   "id": "e6a71d95",
   "metadata": {},
   "outputs": [],
   "source": [
    "import zarr\n",
    "from numpy import asarray\n",
    "from skimage.io import imread\n",
    "import napari"
   ]
  },
  {
   "cell_type": "markdown",
   "id": "3858652c",
   "metadata": {},
   "source": [
    "# Opening the Zarr logo using Napari"
   ]
  },
  {
   "cell_type": "code",
   "execution_count": 5,
   "id": "cec4ec65",
   "metadata": {},
   "outputs": [
    {
     "data": {
      "text/plain": [
       "(512, 512, 4)"
      ]
     },
     "execution_count": 5,
     "metadata": {},
     "output_type": "execute_result"
    }
   ],
   "source": [
    "image = imread(\"/home/brandon/Desktop/notebooks/zarr_logo_pixel/zarr_pixel.png\")\n",
    "image.shape\n",
    "# prints out the dimensions of the image"
   ]
  },
  {
   "cell_type": "code",
   "execution_count": 6,
   "id": "195c9184",
   "metadata": {},
   "outputs": [
    {
     "name": "stderr",
     "output_type": "stream",
     "text": [
      "WARNING: Warning: Ignoring XDG_SESSION_TYPE=wayland on Gnome. Use QT_QPA_PLATFORM=wayland to run on Wayland anyway.\n"
     ]
    }
   ],
   "source": [
    "viewer= napari.Viewer()\n",
    "# creates an empty viewer"
   ]
  },
  {
   "cell_type": "code",
   "execution_count": 7,
   "id": "2147f8c5",
   "metadata": {},
   "outputs": [
    {
     "data": {
      "text/plain": [
       "<Image layer 'Zarr-Logo' at 0x7f63647b1a80>"
      ]
     },
     "execution_count": 7,
     "metadata": {},
     "output_type": "execute_result"
    }
   ],
   "source": [
    "viewer.add_image(image, name='Zarr-Logo')\n"
   ]
  },
  {
   "cell_type": "markdown",
   "id": "ad6839e4",
   "metadata": {},
   "source": [
    "# Converting the Zarr logo into NumPy array using asarray function\n"
   ]
  },
  {
   "cell_type": "code",
   "execution_count": 8,
   "id": "cf51847f",
   "metadata": {},
   "outputs": [
    {
     "data": {
      "text/plain": [
       "numpy.ndarray"
      ]
     },
     "execution_count": 8,
     "metadata": {},
     "output_type": "execute_result"
    }
   ],
   "source": [
    "numpydata = asarray(image)\n",
    "type(numpydata)"
   ]
  },
  {
   "cell_type": "code",
   "execution_count": 9,
   "id": "35c65161",
   "metadata": {},
   "outputs": [
    {
     "data": {
      "text/plain": [
       "(512, 512, 4)"
      ]
     },
     "execution_count": 9,
     "metadata": {},
     "output_type": "execute_result"
    }
   ],
   "source": [
    "numpydata.shape"
   ]
  },
  {
   "cell_type": "code",
   "execution_count": 10,
   "id": "b8fad7d5",
   "metadata": {},
   "outputs": [
    {
     "data": {
      "text/plain": [
       "array([[[255, 255, 255, 255],\n",
       "        [255, 255, 255, 255],\n",
       "        [255, 255, 255, 255],\n",
       "        ...,\n",
       "        [255, 255, 255, 255],\n",
       "        [255, 255, 255, 255],\n",
       "        [255, 255, 255, 255]],\n",
       "\n",
       "       [[255, 255, 255, 255],\n",
       "        [255, 255, 255, 255],\n",
       "        [255, 255, 255, 255],\n",
       "        ...,\n",
       "        [255, 255, 255, 255],\n",
       "        [255, 255, 255, 255],\n",
       "        [255, 255, 255, 255]],\n",
       "\n",
       "       [[255, 255, 255, 255],\n",
       "        [255, 255, 255, 255],\n",
       "        [255, 255, 255, 255],\n",
       "        ...,\n",
       "        [255, 255, 255, 255],\n",
       "        [255, 255, 255, 255],\n",
       "        [255, 255, 255, 255]],\n",
       "\n",
       "       ...,\n",
       "\n",
       "       [[255, 255, 255, 255],\n",
       "        [255, 255, 255, 255],\n",
       "        [255, 255, 255, 255],\n",
       "        ...,\n",
       "        [255, 255, 255, 255],\n",
       "        [255, 255, 255, 255],\n",
       "        [255, 255, 255, 255]],\n",
       "\n",
       "       [[255, 255, 255, 255],\n",
       "        [255, 255, 255, 255],\n",
       "        [255, 255, 255, 255],\n",
       "        ...,\n",
       "        [255, 255, 255, 255],\n",
       "        [255, 255, 255, 255],\n",
       "        [255, 255, 255, 255]],\n",
       "\n",
       "       [[255, 255, 255, 255],\n",
       "        [255, 255, 255, 255],\n",
       "        [255, 255, 255, 255],\n",
       "        ...,\n",
       "        [255, 255, 255, 255],\n",
       "        [255, 255, 255, 255],\n",
       "        [255, 255, 255, 255]]], dtype=uint8)"
      ]
     },
     "execution_count": 10,
     "metadata": {},
     "output_type": "execute_result"
    }
   ],
   "source": [
    "numpydata"
   ]
  },
  {
   "cell_type": "markdown",
   "id": "415856d6",
   "metadata": {},
   "source": [
    "# Converting NumPy array into Zarr array using zarr.array function"
   ]
  },
  {
   "cell_type": "code",
   "execution_count": 11,
   "id": "6ac46a85",
   "metadata": {},
   "outputs": [],
   "source": [
    "zarr_logo_zarr = zarr.array(numpydata)"
   ]
  },
  {
   "cell_type": "code",
   "execution_count": 12,
   "id": "51790fc1",
   "metadata": {},
   "outputs": [
    {
     "data": {
      "text/html": [
       "<table class=\"zarr-info\"><tbody><tr><th style=\"text-align: left\">Type</th><td style=\"text-align: left\">zarr.core.Array</td></tr><tr><th style=\"text-align: left\">Data type</th><td style=\"text-align: left\">uint8</td></tr><tr><th style=\"text-align: left\">Shape</th><td style=\"text-align: left\">(512, 512, 4)</td></tr><tr><th style=\"text-align: left\">Chunk shape</th><td style=\"text-align: left\">(256, 256, 4)</td></tr><tr><th style=\"text-align: left\">Order</th><td style=\"text-align: left\">C</td></tr><tr><th style=\"text-align: left\">Read-only</th><td style=\"text-align: left\">False</td></tr><tr><th style=\"text-align: left\">Compressor</th><td style=\"text-align: left\">Blosc(cname='lz4', clevel=5, shuffle=SHUFFLE, blocksize=0)</td></tr><tr><th style=\"text-align: left\">Store type</th><td style=\"text-align: left\">zarr.storage.KVStore</td></tr><tr><th style=\"text-align: left\">No. bytes</th><td style=\"text-align: left\">1048576 (1.0M)</td></tr><tr><th style=\"text-align: left\">No. bytes stored</th><td style=\"text-align: left\">107878 (105.3K)</td></tr><tr><th style=\"text-align: left\">Storage ratio</th><td style=\"text-align: left\">9.7</td></tr><tr><th style=\"text-align: left\">Chunks initialized</th><td style=\"text-align: left\">4/4</td></tr></tbody></table>"
      ],
      "text/plain": [
       "Type               : zarr.core.Array\n",
       "Data type          : uint8\n",
       "Shape              : (512, 512, 4)\n",
       "Chunk shape        : (256, 256, 4)\n",
       "Order              : C\n",
       "Read-only          : False\n",
       "Compressor         : Blosc(cname='lz4', clevel=5, shuffle=SHUFFLE, blocksize=0)\n",
       "Store type         : zarr.storage.KVStore\n",
       "No. bytes          : 1048576 (1.0M)\n",
       "No. bytes stored   : 107878 (105.3K)\n",
       "Storage ratio      : 9.7\n",
       "Chunks initialized : 4/4"
      ]
     },
     "execution_count": 12,
     "metadata": {},
     "output_type": "execute_result"
    }
   ],
   "source": [
    "zarr_logo_zarr.info"
   ]
  },
  {
   "cell_type": "markdown",
   "id": "3285ad4d",
   "metadata": {},
   "source": [
    "# Saving Zarr array (Zarr Pixel Logo)"
   ]
  },
  {
   "cell_type": "code",
   "execution_count": 13,
   "id": "1f128caa",
   "metadata": {},
   "outputs": [],
   "source": [
    "zarr.save(\"zarr_logo_temp.zarr\", zarr_logo_zarr)"
   ]
  },
  {
   "cell_type": "code",
   "execution_count": 14,
   "id": "086156ea",
   "metadata": {},
   "outputs": [
    {
     "data": {
      "text/plain": [
       "<Image layer 'zarr_logo_zarr' at 0x7f63641849d0>"
      ]
     },
     "execution_count": 14,
     "metadata": {},
     "output_type": "execute_result"
    }
   ],
   "source": [
    "viewer.add_image(zarr_logo_zarr)"
   ]
  }
 ],
 "metadata": {
  "kernelspec": {
   "display_name": "Python 3 (ipykernel)",
   "language": "python",
   "name": "python3"
  },
  "language_info": {
   "codemirror_mode": {
    "name": "ipython",
    "version": 3
   },
   "file_extension": ".py",
   "mimetype": "text/x-python",
   "name": "python",
   "nbconvert_exporter": "python",
   "pygments_lexer": "ipython3",
   "version": "3.10.6"
  }
 },
 "nbformat": 4,
 "nbformat_minor": 5
}
