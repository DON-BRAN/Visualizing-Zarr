{
 "cells": [
  {
   "cell_type": "code",
   "execution_count": 1,
   "id": "6f8700fa",
   "metadata": {},
   "outputs": [],
   "source": [
    "import zarr"
   ]
  },
  {
   "cell_type": "code",
   "execution_count": 2,
   "id": "a1e7f558",
   "metadata": {},
   "outputs": [],
   "source": [
    "import napari\n",
    "from skimage import data"
   ]
  },
  {
   "cell_type": "code",
   "execution_count": 3,
   "id": "ea2959bb",
   "metadata": {},
   "outputs": [
    {
     "name": "stdout",
     "output_type": "stream",
     "text": [
      "(3, 320, 240, 1)\n"
     ]
    },
    {
     "name": "stderr",
     "output_type": "stream",
     "text": [
      "WARNING: Warning: Ignoring XDG_SESSION_TYPE=wayland on Gnome. Use QT_QPA_PLATFORM=wayland to run on Wayland anyway.\n"
     ]
    },
    {
     "data": {
      "text/plain": [
       "<Image layer 'Skin-layers' at 0x7ff7e4baeda0>"
      ]
     },
     "execution_count": 3,
     "metadata": {},
     "output_type": "execute_result"
    }
   ],
   "source": [
    "z = zarr.open_array(\n",
    "    \"https://data-humerus.webknossos.org/data/zarr/scalable_minds/skin/color/4-4-1\"\n",
    ")\n",
    "print(z.shape)\n",
    "viewer = napari.Viewer()\n",
    "viewer.add_image(z[:, :, :, 0], name='Skin-layers', colormap='pink')"
   ]
  },
  {
   "cell_type": "code",
   "execution_count": 4,
   "id": "81dbca65",
   "metadata": {},
   "outputs": [
    {
     "name": "stdout",
     "output_type": "stream",
     "text": [
      "(1, 2786, 4254, 3413)\n"
     ]
    },
    {
     "data": {
      "text/plain": [
       "<Image layer 'Mouse cortex segment-2' at 0x7ff803fe74f0>"
      ]
     },
     "execution_count": 4,
     "metadata": {},
     "output_type": "execute_result"
    }
   ],
   "source": [
    "z = zarr.open_array(\"https://data-humerus.webknossos.org/data/zarr/scalable_minds/l4dense_motta_et_al_demo_v2/color/2-2-1\")\n",
    "print(z.shape)\n",
    "\n",
    "viewer.add_image(z[0, 1000:1800, 500:1500, 1500], name='Mouse cortex segment-1', colormap='gray')\n",
    "z = zarr.open_array(\"https://data-humerus.webknossos.org/data/zarr/scalable_minds/l4dense_motta_et_al_demo_v2/segmentation/2-2-1\")\n",
    "viewer.add_image(z[0, 1000:1800, 500:1500, 1500], name='Mouse cortex segment-2', colormap='tab20')"
   ]
  },
  {
   "cell_type": "code",
   "execution_count": 5,
   "id": "af96f1c5",
   "metadata": {},
   "outputs": [
    {
     "name": "stdout",
     "output_type": "stream",
     "text": [
      "(1, 2, 236, 137, 135)\n"
     ]
    },
    {
     "data": {
      "text/plain": [
       "<Image layer 'Mouse blastocyst' at 0x7ff7ba3585b0>"
      ]
     },
     "execution_count": 5,
     "metadata": {},
     "output_type": "execute_result"
    }
   ],
   "source": [
    "z = zarr.open_array(\n",
    "    \"https://uk1s3.embassy.ebi.ac.uk/idr/zarr/v0.1/6001240.zarr/1\"\n",
    ")\n",
    "print(z.shape)\n",
    "viewer.add_image(z[0, 1, 100, :, :], name='Mouse blastocyst',colormap='orange')"
   ]
  },
  {
   "cell_type": "code",
   "execution_count": 7,
   "id": "355674bf",
   "metadata": {},
   "outputs": [
    {
     "name": "stdout",
     "output_type": "stream",
     "text": [
      "['CDD0', 'CDD10', 'CDD18_3', 'DISPH', 'EVLAND', 'EVPTRNS', 'FROST_DAYS', 'FRSEAICE', 'FRSNO', 'GWETPROF', 'GWETROOT', 'GWETTOP', 'HDD0', 'HDD10', 'HDD18_3', 'PBLTOP', 'PRECSNO', 'PRECSNOLAND', 'PRECSNOLAND_SUM', 'PRECTOTCORR', 'PRECTOTCORR_SUM', 'PS', 'QV10M', 'QV2M', 'RH2M', 'RHOA', 'SLP', 'SNODP', 'T10M', 'T10M_MAX', 'T10M_MAX_AVG', 'T10M_MIN', 'T10M_MIN_AVG', 'T10M_RANGE', 'T10M_RANGE_AVG', 'T2M', 'T2MDEW', 'T2MWET', 'T2M_MAX', 'T2M_MAX_AVG', 'T2M_MIN', 'T2M_MIN_AVG', 'T2M_RANGE', 'T2M_RANGE_AVG', 'TO3', 'TQV', 'TROPPB', 'TROPQ', 'TROPT', 'TS', 'TSOIL1', 'TSOIL2', 'TSOIL3', 'TSOIL4', 'TSOIL5', 'TSOIL6', 'TSURF', 'TS_MAX', 'TS_MAX_AVG', 'TS_MIN', 'TS_MIN_AVG', 'TS_RANGE', 'TS_RANGE_AVG', 'U10M', 'U2M', 'U50M', 'V10M', 'V2M', 'V50M', 'WD10M', 'WD2M', 'WD50M', 'WS10M', 'WS10M_MAX', 'WS10M_MAX_AVG', 'WS10M_MIN', 'WS10M_MIN_AVG', 'WS10M_RANGE', 'WS10M_RANGE_AVG', 'WS2M', 'WS2M_MAX', 'WS2M_MAX_AVG', 'WS2M_MIN', 'WS2M_MIN_AVG', 'WS2M_RANGE', 'WS2M_RANGE_AVG', 'WS50M', 'WS50M_MAX', 'WS50M_MAX_AVG', 'WS50M_MIN', 'WS50M_MIN_AVG', 'WS50M_RANGE', 'WS50M_RANGE_AVG', 'Z0M', 'lat', 'lon', 'time']\n",
      "(492, 361, 576)\n"
     ]
    },
    {
     "data": {
      "text/plain": [
       "<Image layer 'Power Analysis [1]' at 0x7ff7a96622c0>"
      ]
     },
     "execution_count": 7,
     "metadata": {},
     "output_type": "execute_result"
    }
   ],
   "source": [
    "g = zarr.open_group(\n",
    "    \"s3://power-analysis-ready-datastore/power_901_monthly_meteorology_utc.zarr\",\n",
    "    storage_options={\"anon\": True}\n",
    ")\n",
    "print(list(g.keys()))\n",
    "z = g[\"EVLAND\"]\n",
    "print(z.shape)\n",
    "viewer.add_image(z[200], colormap='hot', name='Power Analysis')"
   ]
  },
  {
   "cell_type": "code",
   "execution_count": 8,
   "id": "1dfc3aff",
   "metadata": {},
   "outputs": [
    {
     "name": "stdout",
     "output_type": "stream",
     "text": [
      "['hfls', 'lat', 'lat_bnds', 'lon', 'lon_bnds', 'time', 'time_bnds']\n",
      "(1800, 192, 288)\n"
     ]
    },
    {
     "data": {
      "text/plain": [
       "<Image layer 'CMIP6' at 0x7ff7a8abb0a0>"
      ]
     },
     "execution_count": 8,
     "metadata": {},
     "output_type": "execute_result"
    }
   ],
   "source": [
    "g = zarr.open_group(\n",
    "    \"s3://cmip6-pds/CMIP6/CMIP/AS-RCEC/TaiESM1/1pctCO2/r1i1p1f1/Amon/hfls/gn/v20200225/\",\n",
    "    storage_options={\"anon\": True}\n",
    ")\n",
    "print(list(g.keys()))\n",
    "z = g[\"hfls\"]\n",
    "print(z.shape)\n",
    "viewer.add_image(z[900], name='CMIP6')"
   ]
  },
  {
   "cell_type": "code",
   "execution_count": 10,
   "id": "e6e6b172",
   "metadata": {},
   "outputs": [
    {
     "name": "stdout",
     "output_type": "stream",
     "text": [
      "date 20230116\n",
      "(24, 897, 1800)\n"
     ]
    },
    {
     "data": {
      "text/plain": [
       "<Image layer 'Air Quality' at 0x7ff7a87d5810>"
      ]
     },
     "execution_count": 10,
     "metadata": {},
     "output_type": "execute_result"
    }
   ],
   "source": [
    "from datetime import datetime\n",
    "import numpy as np\n",
    "\n",
    "date = datetime.today().strftime('%Y%m%d')\n",
    "print(\"date\", date)\n",
    "\n",
    "z = zarr.open_array(\n",
    "    f\"s3://fmi-opendata-silam-surface-zarr/global/{date}/silam_glob_v5_7_1_{date}_SO2_d0.zarr/SO2/\",\n",
    "    storage_options={\"anon\": True}\n",
    ")\n",
    "print(z.shape)\n",
    "viewer.add_image(np.log(z[20]), name='Air Quality', colormap='Spectral')"
   ]
  },
  {
   "cell_type": "code",
   "execution_count": 12,
   "id": "14ec6a91",
   "metadata": {},
   "outputs": [
    {
     "name": "stdout",
     "output_type": "stream",
     "text": [
      "(13, 90, 90)\n"
     ]
    },
    {
     "data": {
      "text/plain": [
       "<Image layer 'ECCO' at 0x7ff7a85fa680>"
      ]
     },
     "execution_count": 12,
     "metadata": {},
     "output_type": "execute_result"
    }
   ],
   "source": [
    "z = zarr.open_array(\n",
    "    \"https://storage.googleapis.com/pangeo-data/ECCO_basins.zarr/basin_mask\"\n",
    "  )\n",
    "print(z.shape)\n",
    "viewer.add_image(z[10], name='ECCO')"
   ]
  }
 ],
 "metadata": {
  "kernelspec": {
   "display_name": "Python 3 (ipykernel)",
   "language": "python",
   "name": "python3"
  },
  "language_info": {
   "codemirror_mode": {
    "name": "ipython",
    "version": 3
   },
   "file_extension": ".py",
   "mimetype": "text/x-python",
   "name": "python",
   "nbconvert_exporter": "python",
   "pygments_lexer": "ipython3",
   "version": "3.10.6"
  }
 },
 "nbformat": 4,
 "nbformat_minor": 5
}
