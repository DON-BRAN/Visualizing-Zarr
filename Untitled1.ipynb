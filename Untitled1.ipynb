{
 "cells": [
  {
   "cell_type": "code",
   "execution_count": 1,
   "id": "5b5379be",
   "metadata": {},
   "outputs": [
    {
     "name": "stdout",
     "output_type": "stream",
     "text": [
      "Defaulting to user installation because normal site-packages is not writeable\n",
      "Collecting itkwidgets[notebook]>=1.0a16\n",
      "  Downloading itkwidgets-1.0a23-py3-none-any.whl (24 kB)\n",
      "Collecting imjoy-utils>=0.1.2\n",
      "  Downloading imjoy_utils-0.1.2-py3-none-any.whl (5.3 kB)\n",
      "Collecting imjoy-rpc>=0.5.16\n",
      "  Downloading imjoy_rpc-0.5.16-py3-none-any.whl (58 kB)\n",
      "\u001b[2K     \u001b[38;2;114;156;31m━━━━━━━━━━━━━━━━━━━━━━━━━━━━━━━━━━━━━━━\u001b[0m \u001b[32m58.1/58.1 kB\u001b[0m \u001b[31m234.5 kB/s\u001b[0m eta \u001b[36m0:00:00\u001b[0m kB/s\u001b[0m eta \u001b[36m0:00:01\u001b[0m\n",
      "\u001b[?25hRequirement already satisfied: zarr in /home/brandon/.local/lib/python3.10/site-packages (from itkwidgets[notebook]>=1.0a16) (2.13.3)\n",
      "Collecting itkwasm>=1.0b1\n",
      "  Downloading itkwasm-1.0b1-py3-none-any.whl (7.0 kB)\n",
      "Requirement already satisfied: numcodecs in /home/brandon/.local/lib/python3.10/site-packages (from itkwidgets[notebook]>=1.0a16) (0.10.2)\n",
      "Collecting ngff-zarr[dask-image]>=0.1.6\n",
      "  Downloading ngff_zarr-0.1.6-py3-none-any.whl (13 kB)\n",
      "Collecting imjoy-elfinder[jupyter]\n",
      "  Downloading imjoy_elfinder-0.1.61-py3-none-any.whl (36 kB)\n",
      "Collecting imjoy-jupyter-extension>=0.3.0\n",
      "  Downloading imjoy_jupyter_extension-0.3.0-py3-none-any.whl (39 kB)\n",
      "Requirement already satisfied: notebook>=5.3 in /usr/lib/python3/dist-packages (from imjoy-jupyter-extension>=0.3.0->itkwidgets[notebook]>=1.0a16) (6.4.8)\n",
      "Collecting websockets\n",
      "  Downloading websockets-10.4-cp310-cp310-manylinux_2_5_x86_64.manylinux1_x86_64.manylinux_2_17_x86_64.manylinux2014_x86_64.whl (106 kB)\n",
      "\u001b[2K     \u001b[38;2;114;156;31m━━━━━━━━━━━━━━━━━━━━━━━━━━━━━━━━━━━━━\u001b[0m \u001b[32m106.8/106.8 kB\u001b[0m \u001b[31m663.6 kB/s\u001b[0m eta \u001b[36m0:00:00\u001b[0m MB/s\u001b[0m eta \u001b[36m0:00:01\u001b[0m:01\u001b[0m\n",
      "\u001b[?25hCollecting msgpack>=1.0.2\n",
      "  Downloading msgpack-1.0.4-cp310-cp310-manylinux_2_17_x86_64.manylinux2014_x86_64.whl (316 kB)\n",
      "\u001b[2K     \u001b[38;2;114;156;31m━━━━━━━━━━━━━━━━━━━━━━━━━━━━━━━━━━━━━\u001b[0m \u001b[32m317.0/317.0 kB\u001b[0m \u001b[31m686.3 kB/s\u001b[0m eta \u001b[36m0:00:00\u001b[0m1m791.1 kB/s\u001b[0m eta \u001b[36m0:00:01\u001b[0m\n",
      "\u001b[?25hCollecting shortuuid>=1.0.8\n",
      "  Downloading shortuuid-1.0.11-py3-none-any.whl (10 kB)\n",
      "Requirement already satisfied: numpy in /home/brandon/.local/lib/python3.10/site-packages (from itkwasm>=1.0b1->itkwidgets[notebook]>=1.0a16) (1.23.4)\n",
      "Requirement already satisfied: dask[array] in /home/brandon/.local/lib/python3.10/site-packages (from ngff-zarr[dask-image]>=0.1.6->itkwidgets[notebook]>=1.0a16) (2022.12.1)\n",
      "Requirement already satisfied: typing-extensions in /home/brandon/.local/lib/python3.10/site-packages (from ngff-zarr[dask-image]>=0.1.6->itkwidgets[notebook]>=1.0a16) (4.4.0)\n",
      "Collecting dask-image\n",
      "  Downloading dask-image-2022.9.0.tar.gz (82 kB)\n",
      "\u001b[2K     \u001b[38;2;114;156;31m━━━━━━━━━━━━━━━━━━━━━━━━━━━━━━━━━━━━━━━\u001b[0m \u001b[32m82.7/82.7 kB\u001b[0m \u001b[31m784.9 kB/s\u001b[0m eta \u001b[36m0:00:00\u001b[0m eta \u001b[36m0:00:01\u001b[0m[36m0:00:01\u001b[0m\n",
      "\u001b[?25h  Preparing metadata (setup.py) ... \u001b[?25ldone\n",
      "\u001b[?25hCollecting waitress\n",
      "  Downloading waitress-2.1.2-py3-none-any.whl (57 kB)\n",
      "\u001b[2K     \u001b[38;2;114;156;31m━━━━━━━━━━━━━━━━━━━━━━━━━━━━━━━━━━━━━━━\u001b[0m \u001b[32m57.7/57.7 kB\u001b[0m \u001b[31m513.1 kB/s\u001b[0m eta \u001b[36m0:00:00\u001b[0mMB/s\u001b[0m eta \u001b[36m0:00:01\u001b[0m\n",
      "\u001b[?25hRequirement already satisfied: werkzeug in /home/brandon/.local/lib/python3.10/site-packages (from imjoy-elfinder[jupyter]->itkwidgets[notebook]>=1.0a16) (2.2.2)\n",
      "Collecting elfinder-client\n",
      "  Downloading elfinder-client-2.1.55a6.tar.gz (1.2 MB)\n",
      "\u001b[2K     \u001b[38;2;114;156;31m━━━━━━━━━━━━━━━━━━━━━━━━━━━━━━━━━━━━━━━━\u001b[0m \u001b[32m1.2/1.2 MB\u001b[0m \u001b[31m627.2 kB/s\u001b[0m eta \u001b[36m0:00:00\u001b[0mm eta \u001b[36m0:00:01\u001b[0m0:01\u001b[0m:01\u001b[0m\n",
      "\u001b[?25h  Preparing metadata (setup.py) ... \u001b[?25ldone\n",
      "\u001b[?25hCollecting pyramid\n",
      "  Downloading pyramid-2.0.1-py3-none-any.whl (246 kB)\n",
      "\u001b[2K     \u001b[38;2;114;156;31m━━━━━━━━━━━━━━━━━━━━━━━━━━━━━━━━━━━━━\u001b[0m \u001b[32m247.0/247.0 kB\u001b[0m \u001b[31m526.6 kB/s\u001b[0m eta \u001b[36m0:00:00\u001b[0mm eta \u001b[36m0:00:01\u001b[0m[36m0:00:01\u001b[0m\n",
      "\u001b[?25hCollecting pathvalidate\n",
      "  Downloading pathvalidate-2.5.2-py3-none-any.whl (20 kB)\n",
      "Collecting pyramid-jinja2\n",
      "  Downloading pyramid_jinja2-2.10-py3-none-any.whl (43 kB)\n",
      "\u001b[2K     \u001b[38;2;114;156;31m━━━━━━━━━━━━━━━━━━━━━━━━━━━━━━━━━━━━━━━\u001b[0m \u001b[32m43.1/43.1 kB\u001b[0m \u001b[31m402.5 kB/s\u001b[0m eta \u001b[36m0:00:00\u001b[0mMB/s\u001b[0m eta \u001b[36m0:00:01\u001b[0m\n",
      "\u001b[?25hRequirement already satisfied: pillow in /usr/lib/python3/dist-packages (from imjoy-elfinder[jupyter]->itkwidgets[notebook]>=1.0a16) (9.0.1)\n",
      "Collecting jupyter-server-proxy-windows\n",
      "  Downloading jupyter_server_proxy_windows-1.5.1-py3-none-any.whl (18 kB)\n",
      "Requirement already satisfied: entrypoints in /home/brandon/.local/lib/python3.10/site-packages (from numcodecs->itkwidgets[notebook]>=1.0a16) (0.4)\n",
      "Requirement already satisfied: asciitree in /home/brandon/.local/lib/python3.10/site-packages (from zarr->itkwidgets[notebook]>=1.0a16) (0.3.3)\n",
      "Requirement already satisfied: fasteners in /home/brandon/.local/lib/python3.10/site-packages (from zarr->itkwidgets[notebook]>=1.0a16) (0.18)\n",
      "Collecting pims>=0.4.1\n",
      "  Downloading PIMS-0.6.1.tar.gz (86 kB)\n",
      "\u001b[2K     \u001b[38;2;114;156;31m━━━━━━━━━━━━━━━━━━━━━━━━━━━━━━━━━━━━━━━\u001b[0m \u001b[32m86.0/86.0 kB\u001b[0m \u001b[31m244.9 kB/s\u001b[0m eta \u001b[36m0:00:00\u001b[0mMB/s\u001b[0m eta \u001b[36m0:00:01\u001b[0m\n",
      "\u001b[?25h  Preparing metadata (setup.py) ... \u001b[?25ldone\n",
      "\u001b[?25hRequirement already satisfied: scipy>=0.19.1 in /usr/lib/python3/dist-packages (from dask-image->ngff-zarr[dask-image]>=0.1.6->itkwidgets[notebook]>=1.0a16) (1.8.0)\n",
      "Requirement already satisfied: fsspec>=0.6.0 in /home/brandon/.local/lib/python3.10/site-packages (from dask[array]->ngff-zarr[dask-image]>=0.1.6->itkwidgets[notebook]>=1.0a16) (2022.11.0)\n",
      "Requirement already satisfied: partd>=0.3.10 in /home/brandon/.local/lib/python3.10/site-packages (from dask[array]->ngff-zarr[dask-image]>=0.1.6->itkwidgets[notebook]>=1.0a16) (1.3.0)\n",
      "Requirement already satisfied: toolz>=0.8.2 in /home/brandon/.local/lib/python3.10/site-packages (from dask[array]->ngff-zarr[dask-image]>=0.1.6->itkwidgets[notebook]>=1.0a16) (0.12.0)\n",
      "Requirement already satisfied: click>=7.0 in /home/brandon/.local/lib/python3.10/site-packages (from dask[array]->ngff-zarr[dask-image]>=0.1.6->itkwidgets[notebook]>=1.0a16) (8.1.3)\n",
      "Requirement already satisfied: pyyaml>=5.3.1 in /usr/lib/python3/dist-packages (from dask[array]->ngff-zarr[dask-image]>=0.1.6->itkwidgets[notebook]>=1.0a16) (5.4.1)\n",
      "Requirement already satisfied: cloudpickle>=1.1.1 in /home/brandon/.local/lib/python3.10/site-packages (from dask[array]->ngff-zarr[dask-image]>=0.1.6->itkwidgets[notebook]>=1.0a16) (2.2.0)\n",
      "Requirement already satisfied: packaging>=20.0 in /usr/lib/python3/dist-packages (from dask[array]->ngff-zarr[dask-image]>=0.1.6->itkwidgets[notebook]>=1.0a16) (21.3)\n",
      "Requirement already satisfied: aiohttp in /home/brandon/.local/lib/python3.10/site-packages (from jupyter-server-proxy-windows->imjoy-elfinder[jupyter]->itkwidgets[notebook]>=1.0a16) (3.8.3)\n",
      "Collecting simpervisor>=0.2\n",
      "  Downloading simpervisor-0.4-py3-none-any.whl (5.7 kB)\n",
      "Collecting plaster-pastedeploy\n",
      "  Downloading plaster_pastedeploy-1.0.1-py2.py3-none-any.whl (7.8 kB)\n",
      "Collecting zope.deprecation>=3.5.0\n",
      "  Downloading zope.deprecation-4.4.0-py2.py3-none-any.whl (10 kB)\n",
      "Collecting venusian>=1.0\n",
      "  Downloading venusian-3.0.0-py3-none-any.whl (13 kB)\n",
      "Collecting translationstring>=0.4\n",
      "  Downloading translationstring-1.4-py2.py3-none-any.whl (15 kB)\n",
      "Collecting plaster\n",
      "  Downloading plaster-1.1.2-py2.py3-none-any.whl (11 kB)\n",
      "Collecting webob>=1.8.3\n",
      "  Downloading WebOb-1.8.7-py2.py3-none-any.whl (114 kB)\n",
      "\u001b[2K     \u001b[38;2;114;156;31m━━━━━━━━━━━━━━━━━━━━━━━━━━━━━━━━━━━━━\u001b[0m \u001b[32m115.0/115.0 kB\u001b[0m \u001b[31m458.6 kB/s\u001b[0m eta \u001b[36m0:00:00\u001b[0m[36m0:00:01\u001b[0mm eta \u001b[36m0:00:02\u001b[0m\n",
      "\u001b[?25hCollecting hupper>=1.5\n",
      "  Downloading hupper-1.11-py3-none-any.whl (25 kB)\n",
      "Requirement already satisfied: setuptools in /usr/lib/python3/dist-packages (from pyramid->imjoy-elfinder[jupyter]->itkwidgets[notebook]>=1.0a16) (59.6.0)\n",
      "Collecting zope.interface>=3.8.0\n",
      "  Downloading zope.interface-5.5.2-cp310-cp310-manylinux_2_5_x86_64.manylinux1_x86_64.manylinux_2_12_x86_64.manylinux2010_x86_64.whl (258 kB)\n",
      "\u001b[2K     \u001b[38;2;114;156;31m━━━━━━━━━━━━━━━━━━━━━━━━━━━━━━━━━━━━━━━\u001b[0m \u001b[32m258.9/258.9 kB\u001b[0m \u001b[31m1.0 MB/s\u001b[0m eta \u001b[36m0:00:00\u001b[0mm eta \u001b[36m0:00:01\u001b[0m[36m0:00:01\u001b[0m\n",
      "\u001b[?25hRequirement already satisfied: markupsafe in /home/brandon/.local/lib/python3.10/site-packages (from pyramid-jinja2->imjoy-elfinder[jupyter]->itkwidgets[notebook]>=1.0a16) (2.1.2)\n",
      "Requirement already satisfied: jinja2!=2.11.0,!=2.11.1,!=2.11.2,>=2.5.0 in /usr/lib/python3/dist-packages (from pyramid-jinja2->imjoy-elfinder[jupyter]->itkwidgets[notebook]>=1.0a16) (3.0.3)\n"
     ]
    },
    {
     "name": "stdout",
     "output_type": "stream",
     "text": [
      "Requirement already satisfied: locket in /home/brandon/.local/lib/python3.10/site-packages (from partd>=0.3.10->dask[array]->ngff-zarr[dask-image]>=0.1.6->itkwidgets[notebook]>=1.0a16) (1.0.0)\n",
      "Requirement already satisfied: imageio in /home/brandon/.local/lib/python3.10/site-packages (from pims>=0.4.1->dask-image->ngff-zarr[dask-image]>=0.1.6->itkwidgets[notebook]>=1.0a16) (2.24.0)\n",
      "Collecting slicerator>=0.9.8\n",
      "  Downloading slicerator-1.1.0-py3-none-any.whl (10 kB)\n",
      "Requirement already satisfied: async-timeout<5.0,>=4.0.0a3 in /home/brandon/.local/lib/python3.10/site-packages (from aiohttp->jupyter-server-proxy-windows->imjoy-elfinder[jupyter]->itkwidgets[notebook]>=1.0a16) (4.0.2)\n",
      "Requirement already satisfied: frozenlist>=1.1.1 in /home/brandon/.local/lib/python3.10/site-packages (from aiohttp->jupyter-server-proxy-windows->imjoy-elfinder[jupyter]->itkwidgets[notebook]>=1.0a16) (1.3.3)\n",
      "Requirement already satisfied: yarl<2.0,>=1.0 in /home/brandon/.local/lib/python3.10/site-packages (from aiohttp->jupyter-server-proxy-windows->imjoy-elfinder[jupyter]->itkwidgets[notebook]>=1.0a16) (1.8.1)\n",
      "Requirement already satisfied: attrs>=17.3.0 in /home/brandon/.local/lib/python3.10/site-packages (from aiohttp->jupyter-server-proxy-windows->imjoy-elfinder[jupyter]->itkwidgets[notebook]>=1.0a16) (22.1.0)\n",
      "Requirement already satisfied: aiosignal>=1.1.2 in /home/brandon/.local/lib/python3.10/site-packages (from aiohttp->jupyter-server-proxy-windows->imjoy-elfinder[jupyter]->itkwidgets[notebook]>=1.0a16) (1.3.1)\n",
      "Requirement already satisfied: charset-normalizer<3.0,>=2.0 in /home/brandon/.local/lib/python3.10/site-packages (from aiohttp->jupyter-server-proxy-windows->imjoy-elfinder[jupyter]->itkwidgets[notebook]>=1.0a16) (2.1.1)\n",
      "Requirement already satisfied: multidict<7.0,>=4.5 in /home/brandon/.local/lib/python3.10/site-packages (from aiohttp->jupyter-server-proxy-windows->imjoy-elfinder[jupyter]->itkwidgets[notebook]>=1.0a16) (6.0.2)\n",
      "Collecting PasteDeploy>=2.0\n",
      "  Downloading PasteDeploy-3.0.1-py3-none-any.whl (16 kB)\n",
      "Requirement already satisfied: idna>=2.0 in /usr/lib/python3/dist-packages (from yarl<2.0,>=1.0->aiohttp->jupyter-server-proxy-windows->imjoy-elfinder[jupyter]->itkwidgets[notebook]>=1.0a16) (3.3)\n",
      "Building wheels for collected packages: dask-image, elfinder-client, pims\n",
      "  Building wheel for dask-image (setup.py) ... \u001b[?25ldone\n",
      "\u001b[?25h  Created wheel for dask-image: filename=dask_image-2022.9.0-py2.py3-none-any.whl size=41054 sha256=38414da2039d1ed48f3ac2e8435780d80174076eed8548ced6298b7956c2dd20\n",
      "  Stored in directory: /home/brandon/.cache/pip/wheels/62/a4/b5/698571bd729f7ca5558562a07e85fc4cfd13ca4ae7baa70467\n",
      "  Building wheel for elfinder-client (setup.py) ... \u001b[?25ldone\n",
      "\u001b[?25h  Created wheel for elfinder-client: filename=elfinder_client-2.1.55a6-py3-none-any.whl size=1262724 sha256=2b56501136eca9159845a2d9a5159f614d21a954b1a523a5a816771475e70edb\n",
      "  Stored in directory: /home/brandon/.cache/pip/wheels/90/09/23/60440e1462490de6f370d067f00313480d7c016993aa385509\n",
      "  Building wheel for pims (setup.py) ... \u001b[?25ldone\n",
      "\u001b[?25h  Created wheel for pims: filename=PIMS-0.6.1-py3-none-any.whl size=82636 sha256=9a487b6d4cbfae75def61e8f14237a76c0b269ba31cd0d778be3d523eb010f4f\n",
      "  Stored in directory: /home/brandon/.cache/pip/wheels/cc/bf/3e/bfa77232d942f8244145f9c713b6b38f6ef04b6fb5c021c114\n",
      "Successfully built dask-image elfinder-client pims\n",
      "Installing collected packages: translationstring, slicerator, simpervisor, msgpack, elfinder-client, zope.interface, zope.deprecation, websockets, webob, waitress, venusian, shortuuid, plaster, pathvalidate, PasteDeploy, itkwasm, imjoy-utils, hupper, plaster-pastedeploy, pims, imjoy-rpc, pyramid, jupyter-server-proxy-windows, imjoy-jupyter-extension, pyramid-jinja2, ngff-zarr, dask-image, imjoy-elfinder, itkwidgets\n",
      "Successfully installed PasteDeploy-3.0.1 dask-image-2022.9.0 elfinder-client-2.1.55a6 hupper-1.11 imjoy-elfinder-0.1.61 imjoy-jupyter-extension-0.3.0 imjoy-rpc-0.5.16 imjoy-utils-0.1.2 itkwasm-1.0b1 itkwidgets-1.0a23 jupyter-server-proxy-windows-1.5.1 msgpack-1.0.4 ngff-zarr-0.1.6 pathvalidate-2.5.2 pims-0.6.1 plaster-1.1.2 plaster-pastedeploy-1.0.1 pyramid-2.0.1 pyramid-jinja2-2.10 shortuuid-1.0.11 simpervisor-0.4 slicerator-1.1.0 translationstring-1.4 venusian-3.0.0 waitress-2.1.2 webob-1.8.7 websockets-10.4 zope.deprecation-4.4.0 zope.interface-5.5.2\n",
      "Note: you may need to restart the kernel to use updated packages.\n"
     ]
    }
   ],
   "source": [
    "pip install 'itkwidgets[notebook]>=1.0a16'"
   ]
  },
  {
   "cell_type": "code",
   "execution_count": 1,
   "id": "f9823a28",
   "metadata": {},
   "outputs": [],
   "source": [
    "import sys"
   ]
  },
  {
   "cell_type": "code",
   "execution_count": 2,
   "id": "af35df61",
   "metadata": {},
   "outputs": [],
   "source": [
    "import zarr"
   ]
  },
  {
   "cell_type": "code",
   "execution_count": 3,
   "id": "701281d3",
   "metadata": {},
   "outputs": [],
   "source": [
    "from itkwidgets import view"
   ]
  },
  {
   "cell_type": "code",
   "execution_count": 4,
   "id": "97c7a502",
   "metadata": {},
   "outputs": [
    {
     "ename": "KeyError",
     "evalue": "'c'",
     "output_type": "error",
     "traceback": [
      "\u001b[0;31m---------------------------------------------------------------------------\u001b[0m",
      "\u001b[0;31mKeyError\u001b[0m                                  Traceback (most recent call last)",
      "\u001b[0;32m/tmp/ipykernel_16042/577634083.py\u001b[0m in \u001b[0;36m<module>\u001b[0;34m\u001b[0m\n\u001b[1;32m      2\u001b[0m     \u001b[0;34m\"https://data-humerus.webknossos.org/data/zarr/scalable_minds/skin/color/4-4-1\"\u001b[0m\u001b[0;34m\u001b[0m\u001b[0;34m\u001b[0m\u001b[0m\n\u001b[1;32m      3\u001b[0m )\n\u001b[0;32m----> 4\u001b[0;31m \u001b[0mviewer\u001b[0m\u001b[0;34m=\u001b[0m \u001b[0mview\u001b[0m \u001b[0;34m(\u001b[0m\u001b[0mz\u001b[0m\u001b[0;34m)\u001b[0m\u001b[0;34m\u001b[0m\u001b[0;34m\u001b[0m\u001b[0m\n\u001b[0m",
      "\u001b[0;32m~/.local/lib/python3.10/site-packages/itkwidgets/viewer.py\u001b[0m in \u001b[0;36mview\u001b[0;34m(data, **kwargs)\u001b[0m\n\u001b[1;32m    436\u001b[0m         \u001b[0mproperties\u001b[0m \u001b[0mon\u001b[0m \u001b[0mthe\u001b[0m \u001b[0mobject\u001b[0m \u001b[0mto\u001b[0m \u001b[0mchange\u001b[0m \u001b[0mthe\u001b[0m \u001b[0mvisualization\u001b[0m\u001b[0;34m.\u001b[0m\u001b[0;34m\u001b[0m\u001b[0;34m\u001b[0m\u001b[0m\n\u001b[1;32m    437\u001b[0m     \"\"\"\n\u001b[0;32m--> 438\u001b[0;31m     \u001b[0mviewer\u001b[0m \u001b[0;34m=\u001b[0m \u001b[0mViewer\u001b[0m\u001b[0;34m(\u001b[0m\u001b[0mdata\u001b[0m\u001b[0;34m=\u001b[0m\u001b[0mdata\u001b[0m\u001b[0;34m,\u001b[0m \u001b[0;34m**\u001b[0m\u001b[0mkwargs\u001b[0m\u001b[0;34m)\u001b[0m\u001b[0;34m\u001b[0m\u001b[0;34m\u001b[0m\u001b[0m\n\u001b[0m\u001b[1;32m    439\u001b[0m \u001b[0;34m\u001b[0m\u001b[0m\n\u001b[1;32m    440\u001b[0m     \u001b[0;32mreturn\u001b[0m \u001b[0mviewer\u001b[0m\u001b[0;34m\u001b[0m\u001b[0;34m\u001b[0m\u001b[0m\n",
      "\u001b[0;32m~/.local/lib/python3.10/site-packages/itkwidgets/viewer.py\u001b[0m in \u001b[0;36m__init__\u001b[0;34m(self, ui_collapsed, rotate, ui, **add_data_kwargs)\u001b[0m\n\u001b[1;32m    136\u001b[0m     ):\n\u001b[1;32m    137\u001b[0m         \u001b[0minput_data\u001b[0m \u001b[0;34m=\u001b[0m \u001b[0mself\u001b[0m\u001b[0;34m.\u001b[0m\u001b[0minput_data\u001b[0m\u001b[0;34m(\u001b[0m\u001b[0madd_data_kwargs\u001b[0m\u001b[0;34m)\u001b[0m\u001b[0;34m\u001b[0m\u001b[0;34m\u001b[0m\u001b[0m\n\u001b[0;32m--> 138\u001b[0;31m         \u001b[0mdata\u001b[0m \u001b[0;34m=\u001b[0m \u001b[0mself\u001b[0m\u001b[0;34m.\u001b[0m\u001b[0minit_data\u001b[0m\u001b[0;34m(\u001b[0m\u001b[0minput_data\u001b[0m\u001b[0;34m)\u001b[0m\u001b[0;34m\u001b[0m\u001b[0;34m\u001b[0m\u001b[0m\n\u001b[0m\u001b[1;32m    139\u001b[0m         \u001b[0;34m\"\"\"Create a viewer.\"\"\"\u001b[0m\u001b[0;34m\u001b[0m\u001b[0;34m\u001b[0m\u001b[0m\n\u001b[1;32m    140\u001b[0m         self.viewer_rpc = ViewerRPC(\n",
      "\u001b[0;32m~/.local/lib/python3.10/site-packages/itkwidgets/viewer.py\u001b[0m in \u001b[0;36minit_data\u001b[0;34m(self, input_data)\u001b[0m\n\u001b[1;32m    175\u001b[0m                     \u001b[0mresult\u001b[0m \u001b[0;34m=\u001b[0m \u001b[0m_get_viewer_image\u001b[0m\u001b[0;34m(\u001b[0m\u001b[0mdata\u001b[0m\u001b[0;34m,\u001b[0m \u001b[0mlabel\u001b[0m\u001b[0;34m=\u001b[0m\u001b[0;32mTrue\u001b[0m\u001b[0;34m)\u001b[0m\u001b[0;34m\u001b[0m\u001b[0;34m\u001b[0m\u001b[0m\n\u001b[1;32m    176\u001b[0m                 \u001b[0;32melse\u001b[0m\u001b[0;34m:\u001b[0m\u001b[0;34m\u001b[0m\u001b[0;34m\u001b[0m\u001b[0m\n\u001b[0;32m--> 177\u001b[0;31m                     \u001b[0mresult\u001b[0m \u001b[0;34m=\u001b[0m \u001b[0m_get_viewer_image\u001b[0m\u001b[0;34m(\u001b[0m\u001b[0mdata\u001b[0m\u001b[0;34m,\u001b[0m \u001b[0mlabel\u001b[0m\u001b[0;34m=\u001b[0m\u001b[0;32mFalse\u001b[0m\u001b[0;34m)\u001b[0m\u001b[0;34m\u001b[0m\u001b[0;34m\u001b[0m\u001b[0m\n\u001b[0m\u001b[1;32m    178\u001b[0m             \u001b[0;32melif\u001b[0m \u001b[0mrender_type\u001b[0m \u001b[0;32mis\u001b[0m \u001b[0mRenderType\u001b[0m\u001b[0;34m.\u001b[0m\u001b[0mPOINT_SET\u001b[0m\u001b[0;34m:\u001b[0m\u001b[0;34m\u001b[0m\u001b[0;34m\u001b[0m\u001b[0m\n\u001b[1;32m    179\u001b[0m                 \u001b[0mresult\u001b[0m \u001b[0;34m=\u001b[0m \u001b[0m_get_viewer_point_sets\u001b[0m\u001b[0;34m(\u001b[0m\u001b[0mdata\u001b[0m\u001b[0;34m)\u001b[0m\u001b[0;34m\u001b[0m\u001b[0;34m\u001b[0m\u001b[0m\n",
      "\u001b[0;32m~/.local/lib/python3.10/site-packages/itkwidgets/integrations/__init__.py\u001b[0m in \u001b[0;36m_get_viewer_image\u001b[0;34m(image, label)\u001b[0m\n\u001b[1;32m     87\u001b[0m     \u001b[0;32mif\u001b[0m \u001b[0misinstance\u001b[0m\u001b[0;34m(\u001b[0m\u001b[0mimage\u001b[0m\u001b[0;34m,\u001b[0m \u001b[0mzarr\u001b[0m\u001b[0;34m.\u001b[0m\u001b[0mArray\u001b[0m\u001b[0;34m)\u001b[0m\u001b[0;34m:\u001b[0m\u001b[0;34m\u001b[0m\u001b[0;34m\u001b[0m\u001b[0m\n\u001b[1;32m     88\u001b[0m         \u001b[0mngff_image\u001b[0m \u001b[0;34m=\u001b[0m \u001b[0mto_ngff_image\u001b[0m\u001b[0;34m(\u001b[0m\u001b[0mimage\u001b[0m\u001b[0;34m)\u001b[0m\u001b[0;34m\u001b[0m\u001b[0;34m\u001b[0m\u001b[0m\n\u001b[0;32m---> 89\u001b[0;31m         \u001b[0mmultiscales\u001b[0m \u001b[0;34m=\u001b[0m \u001b[0mto_multiscales\u001b[0m\u001b[0;34m(\u001b[0m\u001b[0mngff_image\u001b[0m\u001b[0;34m,\u001b[0m \u001b[0mmethod\u001b[0m\u001b[0;34m=\u001b[0m\u001b[0mmethod\u001b[0m\u001b[0;34m)\u001b[0m\u001b[0;34m\u001b[0m\u001b[0;34m\u001b[0m\u001b[0m\n\u001b[0m\u001b[1;32m     90\u001b[0m         \u001b[0mto_ngff_zarr\u001b[0m\u001b[0;34m(\u001b[0m\u001b[0mstore\u001b[0m\u001b[0;34m,\u001b[0m \u001b[0mmultiscales\u001b[0m\u001b[0;34m,\u001b[0m \u001b[0mchunk_store\u001b[0m\u001b[0;34m=\u001b[0m\u001b[0mchunk_store\u001b[0m\u001b[0;34m)\u001b[0m\u001b[0;34m\u001b[0m\u001b[0;34m\u001b[0m\u001b[0m\n\u001b[1;32m     91\u001b[0m         \u001b[0;32mreturn\u001b[0m \u001b[0mstore\u001b[0m\u001b[0;34m\u001b[0m\u001b[0;34m\u001b[0m\u001b[0m\n",
      "\u001b[0;32m~/.local/lib/python3.10/site-packages/ngff_zarr/to_multiscales.py\u001b[0m in \u001b[0;36mto_multiscales\u001b[0;34m(data, scale_factors, method, chunks)\u001b[0m\n\u001b[1;32m    112\u001b[0m \u001b[0;34m\u001b[0m\u001b[0m\n\u001b[1;32m    113\u001b[0m     \u001b[0;32mif\u001b[0m \u001b[0mmethod\u001b[0m \u001b[0;32mis\u001b[0m \u001b[0mMethods\u001b[0m\u001b[0;34m.\u001b[0m\u001b[0mDASK_IMAGE_GAUSSIAN\u001b[0m\u001b[0;34m:\u001b[0m\u001b[0;34m\u001b[0m\u001b[0;34m\u001b[0m\u001b[0m\n\u001b[0;32m--> 114\u001b[0;31m         images = _downsample_dask_image(\n\u001b[0m\u001b[1;32m    115\u001b[0m             \u001b[0mngff_image\u001b[0m\u001b[0;34m,\u001b[0m \u001b[0mdefault_chunks\u001b[0m\u001b[0;34m,\u001b[0m \u001b[0mout_chunks\u001b[0m\u001b[0;34m,\u001b[0m \u001b[0mscale_factors\u001b[0m\u001b[0;34m,\u001b[0m \u001b[0mlabel\u001b[0m\u001b[0;34m=\u001b[0m\u001b[0;32mFalse\u001b[0m\u001b[0;34m\u001b[0m\u001b[0;34m\u001b[0m\u001b[0m\n\u001b[1;32m    116\u001b[0m         )\n",
      "\u001b[0;32m~/.local/lib/python3.10/site-packages/ngff_zarr/methods/_dask_image.py\u001b[0m in \u001b[0;36m_downsample_dask_image\u001b[0;34m(ngff_image, default_chunks, out_chunks, scale_factors, label)\u001b[0m\n\u001b[1;32m    124\u001b[0m             )\n\u001b[1;32m    125\u001b[0m         ]\n\u001b[0;32m--> 126\u001b[0;31m         \u001b[0moutput_scale\u001b[0m \u001b[0;34m=\u001b[0m \u001b[0m_compute_next_scale\u001b[0m\u001b[0;34m(\u001b[0m\u001b[0mprevious_image\u001b[0m\u001b[0;34m,\u001b[0m \u001b[0mdim_factors\u001b[0m\u001b[0;34m)\u001b[0m\u001b[0;34m\u001b[0m\u001b[0;34m\u001b[0m\u001b[0m\n\u001b[0m\u001b[1;32m    127\u001b[0m         \u001b[0moutput_translation\u001b[0m \u001b[0;34m=\u001b[0m \u001b[0m_compute_next_translation\u001b[0m\u001b[0;34m(\u001b[0m\u001b[0mprevious_image\u001b[0m\u001b[0;34m,\u001b[0m \u001b[0mdim_factors\u001b[0m\u001b[0;34m)\u001b[0m\u001b[0;34m\u001b[0m\u001b[0;34m\u001b[0m\u001b[0m\n\u001b[1;32m    128\u001b[0m \u001b[0;34m\u001b[0m\u001b[0m\n",
      "\u001b[0;32m~/.local/lib/python3.10/site-packages/ngff_zarr/methods/_dask_image.py\u001b[0m in \u001b[0;36m_compute_next_scale\u001b[0;34m(previous_image, dim_factors)\u001b[0m\n\u001b[1;32m     19\u001b[0m     \"\"\"\n\u001b[1;32m     20\u001b[0m     \u001b[0minput_scale\u001b[0m \u001b[0;34m=\u001b[0m \u001b[0mprevious_image\u001b[0m\u001b[0;34m.\u001b[0m\u001b[0mscale\u001b[0m\u001b[0;34m\u001b[0m\u001b[0;34m\u001b[0m\u001b[0m\n\u001b[0;32m---> 21\u001b[0;31m     \u001b[0;32mreturn\u001b[0m \u001b[0;34m{\u001b[0m\u001b[0mdim\u001b[0m\u001b[0;34m:\u001b[0m \u001b[0minput_scale\u001b[0m\u001b[0;34m[\u001b[0m\u001b[0mdim\u001b[0m\u001b[0;34m]\u001b[0m \u001b[0;34m*\u001b[0m \u001b[0mdim_factors\u001b[0m\u001b[0;34m[\u001b[0m\u001b[0mdim\u001b[0m\u001b[0;34m]\u001b[0m \u001b[0;32mfor\u001b[0m \u001b[0mdim\u001b[0m \u001b[0;32min\u001b[0m \u001b[0mprevious_image\u001b[0m\u001b[0;34m.\u001b[0m\u001b[0mdims\u001b[0m\u001b[0;34m}\u001b[0m\u001b[0;34m\u001b[0m\u001b[0;34m\u001b[0m\u001b[0m\n\u001b[0m\u001b[1;32m     22\u001b[0m \u001b[0;34m\u001b[0m\u001b[0m\n\u001b[1;32m     23\u001b[0m \u001b[0;34m\u001b[0m\u001b[0m\n",
      "\u001b[0;32m~/.local/lib/python3.10/site-packages/ngff_zarr/methods/_dask_image.py\u001b[0m in \u001b[0;36m<dictcomp>\u001b[0;34m(.0)\u001b[0m\n\u001b[1;32m     19\u001b[0m     \"\"\"\n\u001b[1;32m     20\u001b[0m     \u001b[0minput_scale\u001b[0m \u001b[0;34m=\u001b[0m \u001b[0mprevious_image\u001b[0m\u001b[0;34m.\u001b[0m\u001b[0mscale\u001b[0m\u001b[0;34m\u001b[0m\u001b[0;34m\u001b[0m\u001b[0m\n\u001b[0;32m---> 21\u001b[0;31m     \u001b[0;32mreturn\u001b[0m \u001b[0;34m{\u001b[0m\u001b[0mdim\u001b[0m\u001b[0;34m:\u001b[0m \u001b[0minput_scale\u001b[0m\u001b[0;34m[\u001b[0m\u001b[0mdim\u001b[0m\u001b[0;34m]\u001b[0m \u001b[0;34m*\u001b[0m \u001b[0mdim_factors\u001b[0m\u001b[0;34m[\u001b[0m\u001b[0mdim\u001b[0m\u001b[0;34m]\u001b[0m \u001b[0;32mfor\u001b[0m \u001b[0mdim\u001b[0m \u001b[0;32min\u001b[0m \u001b[0mprevious_image\u001b[0m\u001b[0;34m.\u001b[0m\u001b[0mdims\u001b[0m\u001b[0;34m}\u001b[0m\u001b[0;34m\u001b[0m\u001b[0;34m\u001b[0m\u001b[0m\n\u001b[0m\u001b[1;32m     22\u001b[0m \u001b[0;34m\u001b[0m\u001b[0m\n\u001b[1;32m     23\u001b[0m \u001b[0;34m\u001b[0m\u001b[0m\n",
      "\u001b[0;31mKeyError\u001b[0m: 'c'"
     ]
    }
   ],
   "source": [
    "z = zarr.open_array(\n",
    "    \"https://data-humerus.webknossos.org/data/zarr/scalable_minds/skin/color/4-4-1\"\n",
    ")\n",
    "viewer= view (z)"
   ]
  }
 ],
 "metadata": {
  "kernelspec": {
   "display_name": "Python 3 (ipykernel)",
   "language": "python",
   "name": "python3"
  },
  "language_info": {
   "codemirror_mode": {
    "name": "ipython",
    "version": 3
   },
   "file_extension": ".py",
   "mimetype": "text/x-python",
   "name": "python",
   "nbconvert_exporter": "python",
   "pygments_lexer": "ipython3",
   "version": "3.10.6"
  }
 },
 "nbformat": 4,
 "nbformat_minor": 5
}
