{
 "cells": [
  {
   "cell_type": "code",
   "execution_count": 1,
   "id": "01e00ee0",
   "metadata": {},
   "outputs": [],
   "source": [
    "import zarr"
   ]
  },
  {
   "cell_type": "code",
   "execution_count": 2,
   "id": "b65f0104",
   "metadata": {},
   "outputs": [],
   "source": [
    "import neuroglancer"
   ]
  },
  {
   "cell_type": "code",
   "execution_count": 4,
   "id": "a3805153",
   "metadata": {},
   "outputs": [],
   "source": [
    "z = zarr.open_array(\n",
    "    \"https://data-humerus.webknossos.org/data/zarr/scalable_minds/skin/color/4-4-1\"\n",
    ")"
   ]
  },
  {
   "cell_type": "code",
   "execution_count": 7,
   "id": "f8e50dd0",
   "metadata": {},
   "outputs": [
    {
     "ename": "SyntaxError",
     "evalue": "invalid syntax (4072828153.py, line 1)",
     "output_type": "error",
     "traceback": [
      "\u001b[0;36m  File \u001b[0;32m\"/tmp/ipykernel_12330/4072828153.py\"\u001b[0;36m, line \u001b[0;32m1\u001b[0m\n\u001b[0;31m    z = zarr://FILE_URL('https://data-humerus.webknossos.org/data/zarr/scalable_minds/skin/color/4-4-1')\u001b[0m\n\u001b[0m            ^\u001b[0m\n\u001b[0;31mSyntaxError\u001b[0m\u001b[0;31m:\u001b[0m invalid syntax\n"
     ]
    }
   ],
   "source": [
    "z = zarr://FILE_URL('https://data-humerus.webknossos.org/data/zarr/scalable_minds/skin/color/4-4-1')"
   ]
  },
  {
   "cell_type": "code",
   "execution_count": null,
   "id": "628e419d",
   "metadata": {},
   "outputs": [
    {
     "name": "stderr",
     "output_type": "stream",
     "text": [
      "Exception in thread Thread-10 (start_server):\n",
      "Traceback (most recent call last):\n",
      "  File \"/usr/lib/python3.10/threading.py\", line 1016, in _bootstrap_inner\n",
      "    self.run()\n",
      "  File \"/usr/lib/python3.10/threading.py\", line 953, in run\n",
      "    self._target(*self._args, **self._kwargs)\n",
      "  File \"/home/brandon/.local/lib/python3.10/site-packages/neuroglancer/server.py\", line 461, in start_server\n",
      "    global_server = Server(ioloop=ioloop, **global_server_args)\n",
      "  File \"/home/brandon/.local/lib/python3.10/site-packages/neuroglancer/server.py\", line 120, in __init__\n",
      "    sockets = tornado.netutil.bind_sockets(port=bind_port, address=bind_address)\n",
      "  File \"/home/brandon/.local/lib/python3.10/site-packages/tornado/netutil.py\", line 105, in bind_sockets\n",
      "    socket.getaddrinfo(address, port, family, socket.SOCK_STREAM, 0, flags),\n",
      "  File \"/usr/lib/python3.10/socket.py\", line 955, in getaddrinfo\n",
      "    for res in _socket.getaddrinfo(host, port, family, type, proto, flags):\n",
      "TypeError: getaddrinfo() argument 1 must be string or None\n"
     ]
    }
   ],
   "source": [
    "ip = z\n",
    "port = 9999 \n",
    "neuroglancer.set_server_bind_address(bind_address=ip,bind_port=port)\n",
    "\n",
    "viewer = neuroglancer.Viewer()\n",
    "print(viewer)"
   ]
  },
  {
   "cell_type": "code",
   "execution_count": null,
   "id": "189e298e",
   "metadata": {},
   "outputs": [],
   "source": []
  }
 ],
 "metadata": {
  "kernelspec": {
   "display_name": "Python 3 (ipykernel)",
   "language": "python",
   "name": "python3"
  },
  "language_info": {
   "codemirror_mode": {
    "name": "ipython",
    "version": 3
   },
   "file_extension": ".py",
   "mimetype": "text/x-python",
   "name": "python",
   "nbconvert_exporter": "python",
   "pygments_lexer": "ipython3",
   "version": "3.10.6"
  }
 },
 "nbformat": 4,
 "nbformat_minor": 5
}
